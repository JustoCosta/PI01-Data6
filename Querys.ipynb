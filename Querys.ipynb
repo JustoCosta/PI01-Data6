{
 "cells": [
  {
   "attachments": {},
   "cell_type": "markdown",
   "metadata": {},
   "source": [
    "ARCHIVO QUERYS DEDICADO A LA PRUEBA DE CONSULTAS Y PRACTICA DE METODOS"
   ]
  },
  {
   "cell_type": "code",
   "execution_count": 1,
   "metadata": {},
   "outputs": [
    {
     "name": "stdout",
     "output_type": "stream",
     "text": [
      "/home/justo99/.local/lib/python3.8/site-packages/pkg_resources/__init__.py:123: PkgResourcesDeprecationWarning: 0.1.36ubuntu1 is an invalid version and will not be supported in a future release\n",
      "  warnings.warn(\n",
      "/home/justo99/.local/lib/python3.8/site-packages/pkg_resources/__init__.py:123: PkgResourcesDeprecationWarning: 0.23ubuntu1 is an invalid version and will not be supported in a future release\n",
      "  warnings.warn(\n",
      "/home/justo99/.local/lib/python3.8/site-packages/pkg_resources/__init__.py:123: PkgResourcesDeprecationWarning: 1.13.1-unknown is an invalid version and will not be supported in a future release\n",
      "  warnings.warn(\n",
      "^C\n",
      "Traceback (most recent call last):\n",
      "  File \"/bin/pip\", line 11, in <module>\n",
      "    load_entry_point('pip==20.0.2', 'console_scripts', 'pip')()\n",
      "  File \"/usr/lib/python3/dist-packages/pip/_internal/cli/main.py\", line 73, in main\n"
     ]
    }
   ],
   "source": [
    "!pip install ipynb"
   ]
  },
  {
   "attachments": {},
   "cell_type": "markdown",
   "metadata": {},
   "source": [
    "IMPORTACION DE LOS DATAFRAMES DEL ARCHIVO DATA (Se instalo librería para la importacion de tablas desde un archivo notebook)"
   ]
  },
  {
   "cell_type": "code",
   "execution_count": 2,
   "metadata": {},
   "outputs": [],
   "source": [
    "from ipynb.fs.full.Data import Dfnetflix , Dfdisney , Dfhulu , Dfamazon "
   ]
  },
  {
   "attachments": {},
   "cell_type": "markdown",
   "metadata": {},
   "source": [
    "CONSULTA 1 (Cantidad de veces que aparece una keyword en el título de peliculas/series, por plataforma)"
   ]
  },
  {
   "cell_type": "code",
   "execution_count": 3,
   "metadata": {},
   "outputs": [],
   "source": [
    "def get_word_count(platform , keyword):\n",
    "    \n",
    "    if (platform == 'amazon'):\n",
    "        return Dfamazon['title'].str.contains(keyword).sum()\n",
    "    if (platform == 'netflix'):\n",
    "        return Dfnetflix['title'].str.contains(keyword).sum()\n",
    "    if (platform == 'disney'):\n",
    "        return Dfdisney['title'].str.contains(keyword).sum()\n",
    "    if (platform == 'hulu'):\n",
    "        return Dfhulu['title'].str.contains(keyword).sum()\n",
    "    else:    \n",
    "        return print('No existe esa Plataforma')\n"
   ]
  },
  {
   "cell_type": "code",
   "execution_count": 4,
   "metadata": {},
   "outputs": [
    {
     "data": {
      "text/plain": [
       "196"
      ]
     },
     "execution_count": 4,
     "metadata": {},
     "output_type": "execute_result"
    }
   ],
   "source": [
    "get_word_count('netflix', 'love')"
   ]
  },
  {
   "attachments": {},
   "cell_type": "markdown",
   "metadata": {},
   "source": [
    "CONSULTA 2 (Cantidad de películas por plataforma con un puntaje mayor a XX en determinado año)"
   ]
  },
  {
   "cell_type": "code",
   "execution_count": 66,
   "metadata": {},
   "outputs": [],
   "source": [
    "def get_score_count(platform , score , year):\n",
    "        if (platform == 'netflix'):\n",
    "            return 'La cantidad de peliculas con un puntaje mayor a ' + str(score) + ' en el año '+ str(year)+ ' es de ' + str(len(Dfnetflix.query(\"type == 'movie' and score > @score and release_year == @year\")))\n",
    "        if (platform == 'amazon'):\n",
    "            return 'La cantidad de peliculas con un puntaje mayor a ' + str(score) + ' en el año '+ str(year)+ ' es de ' + str(len(Dfamazon.query(\"type == 'movie' and score > @score and release_year == @year\")))\n",
    "        if (platform == 'disney'):\n",
    "            return 'La cantidad de peliculas con un puntaje mayor a ' + str(score) + ' en el año '+ str(year)+ ' es de ' + str(len(Dfdisney.query(\"type == 'movie' and score > @score and release_year == @year\")))\n",
    "        if (platform == 'hulu'):\n",
    "            return 'La cantidad de peliculas con un puntaje mayor a ' + str(score) + ' en el año '+ str(year)+ ' es de ' + str(len(Dfhulu.query(\"type == 'movie' and score > @score and release_year == @year\")))\n",
    "        else:    \n",
    "            return 'No existe esa Plataforma'\n",
    "    "
   ]
  },
  {
   "cell_type": "code",
   "execution_count": 67,
   "metadata": {},
   "outputs": [
    {
     "data": {
      "text/plain": [
       "'La cantidad de peliculas con un puntaje mayor a 85 en el año 2010 es de 28'"
      ]
     },
     "execution_count": 67,
     "metadata": {},
     "output_type": "execute_result"
    }
   ],
   "source": [
    "get_score_count('amazon', 85 , 2010)"
   ]
  },
  {
   "attachments": {},
   "cell_type": "markdown",
   "metadata": {},
   "source": [
    "CONSULTA 3 (La segunda película con mayor score para una plataforma determinada, según el orden alfabético de los títulos)"
   ]
  },
  {
   "cell_type": "code",
   "execution_count": 106,
   "metadata": {},
   "outputs": [],
   "source": [
    "def get_second_score(platform):\n",
    "        if (platform == 'netflix'):\n",
    "            Df = Dfnetflix.query(\"type == 'movie'\")\n",
    "            n = Df['score'].max()\n",
    "            c = Df.apply(lambda x: x['score'] == n, axis=1).sum()\n",
    "            maximos = Df.nlargest(c, ['score'])\n",
    "            ordenados = maximos['title'].sort_values()\n",
    "            ordenados.iloc[1]\n",
    "            return 'La segunda pelicula de '+ platform +' con mayor puntaje en orden alfabético es '+ ordenados.iloc[1] + ' con un puntaje de '+ str(n)\n",
    "        if (platform == 'amazon'):\n",
    "            Df = Dfamazon.query(\"type == 'movie'\")\n",
    "            n = Df['score'].max()\n",
    "            c = Df.apply(lambda x: x['score'] == n, axis=1).sum()\n",
    "            maximos = Df.nlargest(c, ['score'])\n",
    "            ordenados = maximos['title'].sort_values()\n",
    "            ordenados.iloc[1]\n",
    "            return 'La segunda pelicula de '+ platform +' con mayor puntaje en orden alfabético es '+ ordenados.iloc[1] + ' con un puntaje de '+ str(n)\n",
    "        if (platform == 'disney'):\n",
    "            Df = Dfdisney.query(\"type == 'movie'\")\n",
    "            n = Df['score'].max()\n",
    "            c = Df.apply(lambda x: x['score'] == n, axis=1).sum()\n",
    "            maximos = Df.nlargest(c, ['score'])\n",
    "            ordenados = maximos['title'].sort_values()\n",
    "            ordenados.iloc[1]\n",
    "            return 'La segunda pelicula de '+ platform +' con mayor puntaje en orden alfabético es '+ ordenados.iloc[1] + ' con un puntaje de '+ str(n)\n",
    "        if (platform == 'hulu'):\n",
    "            Df = Dfhulu.query(\"type == 'movie'\")\n",
    "            n = Df['score'].max()\n",
    "            c = Df.apply(lambda x: x['score'] == n, axis=1).sum()\n",
    "            maximos = Df.nlargest(c, ['score'])\n",
    "            ordenados = maximos['title'].sort_values()\n",
    "            ordenados.iloc[1]\n",
    "            return 'La segunda pelicula de '+ platform +' con mayor puntaje en orden alfabético es '+ ordenados.iloc[1] + ' con un puntaje de '+ str(n)\n",
    "        else:    \n",
    "            return 'No existe esa Plataforma'"
   ]
  },
  {
   "cell_type": "code",
   "execution_count": 110,
   "metadata": {},
   "outputs": [
    {
     "data": {
      "text/plain": [
       "'La segunda pelicula de amazon con mayor puntaje en orden alfabético es abilene town con un puntaje de 100'"
      ]
     },
     "execution_count": 110,
     "metadata": {},
     "output_type": "execute_result"
    }
   ],
   "source": [
    "get_second_score('amazon')"
   ]
  },
  {
   "attachments": {},
   "cell_type": "markdown",
   "metadata": {},
   "source": [
    "CONSULTA 4 (Película que más duró según año, plataforma y tipo de duración)"
   ]
  },
  {
   "cell_type": "code",
   "execution_count": 42,
   "metadata": {},
   "outputs": [],
   "source": [
    "def get_longest(platform, durationtype, year):\n",
    "        if (platform == 'netflix'):\n",
    "            Df = Dfnetflix.query(\"release_year == @year and duration_type == @durationtype\")\n",
    "            Df1 = Df.sort_values( by = 'duration_int' , ascending = False)\n",
    "            title = str(Df1['title'].iloc[0])\n",
    "            duration = str(Df1['duration_int'].iloc[0])\n",
    "            if durationtype == 'min':\n",
    "                return 'La pelicula con mayor duración de ' + platform +' en el año ' + str(year) + ' es '+ title +' con '+ str(duration) +'('+ durationtype +')'\n",
    "            if durationtype == 'season':\n",
    "                return 'La serie con mayor duración de ' + platform +' en el año ' + str(year) +  ' es '+ title +' con '+ str(duration) +'('+ durationtype +')'\n",
    "        if (platform == 'amazon'):\n",
    "            Df = Dfamazon.query(\"release_year == @year and duration_type == @durationtype\")\n",
    "            Df1 = Df.sort_values( by = 'duration_int' , ascending = False)\n",
    "            title = str(Df1['title'].iloc[0])\n",
    "            duration = str(Df1['duration_int'].iloc[0])\n",
    "            if durationtype == 'min':\n",
    "                return 'La pelicula con mayor duración de ' + platform +' en el año ' + str(year) +  ' es '+ title +' con '+ str(duration) +'('+ durationtype +')'\n",
    "            if durationtype == 'season':\n",
    "                return 'La serie con mayor duración de ' + platform +' en el año ' + str(year) +  ' es '+ title +' con '+ str(duration) +'('+ durationtype +')'\n",
    "        if (platform == 'disney'):\n",
    "            Df = Dfdisney.query(\"release_year == @year and duration_type == @durationtype\")\n",
    "            Df1 = Df.sort_values( by = 'duration_int' , ascending = False)\n",
    "            title = str(Df1['title'].iloc[0])\n",
    "            duration = str(Df1['duration_int'].iloc[0])\n",
    "            if durationtype == 'min':\n",
    "                return 'La pelicula con mayor duración de ' + platform +' en el año ' + str(year) +  ' es '+ title +' con '+ str(duration) +'('+ durationtype +')'\n",
    "            if durationtype == 'season':\n",
    "                return 'La serie con mayor duración de ' + platform +' en el año ' + str(year) +  ' es '+ title +' con '+ str(duration) +'('+ durationtype +')'\n",
    "        if (platform == 'hulu'):\n",
    "            Df = Dfhulu.query(\"release_year == @year and duration_type == @durationtype\")\n",
    "            Df1 = Df.sort_values( by = 'duration_int' , ascending = False)\n",
    "            title = str(Df1['title'].iloc[0])\n",
    "            duration = str(Df1['duration_int'].iloc[0])\n",
    "            if durationtype == 'min':\n",
    "                return 'La pelicula con mayor duración de ' + platform +' en el año ' + str(year) +  ' es '+ title +' con '+ str(duration) +'('+ durationtype +')'\n",
    "            if durationtype == 'season':\n",
    "                return 'La serie con mayor duración de ' + str(platform) +' en el año ' + str(year) +  ' es '+ title +' con '+ str(duration) +'('+ durationtype +')'       \n",
    "        else:    \n",
    "            return 'No existe esa Plataforma'"
   ]
  },
  {
   "cell_type": "code",
   "execution_count": 43,
   "metadata": {},
   "outputs": [
    {
     "name": "stdout",
     "output_type": "stream",
     "text": [
      "La serie con mayor duración de netflix en el año 2020 es grey's anatomy con 17(season)\n"
     ]
    }
   ],
   "source": [
    "get_longest('netflix', 'season', 2020)"
   ]
  },
  {
   "attachments": {},
   "cell_type": "markdown",
   "metadata": {},
   "source": [
    "CONSULTA 5 (Cantidad de series y películas por rating)"
   ]
  },
  {
   "cell_type": "code",
   "execution_count": 46,
   "metadata": {},
   "outputs": [
    {
     "data": {
      "text/plain": [
       "array(['g', '13+', 'all', '18+', 'r', 'tv-y', 'tv-y7', 'nr', '16+',\n",
       "       'tv-pg', '7+', 'tv-14', 'tv-nr', 'tv-g', 'pg-13', 'tv-ma', 'pg',\n",
       "       'nc-17', 'unrated', '16', 'ages_16_', 'ages_18_', 'all_ages',\n",
       "       'not_rate'], dtype=object)"
      ]
     },
     "execution_count": 46,
     "metadata": {},
     "output_type": "execute_result"
    }
   ],
   "source": [
    "Dfamazon['rating'].unique()"
   ]
  },
  {
   "cell_type": "code",
   "execution_count": 111,
   "metadata": {},
   "outputs": [
    {
     "data": {
      "text/plain": [
       "1243"
      ]
     },
     "execution_count": 111,
     "metadata": {},
     "output_type": "execute_result"
    }
   ],
   "source": [
    "Dfamazon.apply(lambda x: x['rating'] == '18+', axis = 1).sum()"
   ]
  },
  {
   "cell_type": "code",
   "execution_count": 56,
   "metadata": {},
   "outputs": [],
   "source": [
    "def get_rating_count(rating):\n",
    "    n = Dfnetflix.apply(lambda x: x['rating'] == str(rating), axis = 1).sum()\n",
    "    d = Dfdisney.apply(lambda x: x['rating'] == str(rating), axis = 1).sum() \n",
    "    a = Dfamazon.apply(lambda x: x['rating'] == str(rating), axis = 1).sum()\n",
    "    h = Dfhulu.apply(lambda x: x['rating'] == str(rating), axis = 1).sum()\n",
    "    return 'La cantidad de series y peliculas por rating = ' + rating + ' es de ' +str(n + d + a + h) + ' en las cuatro plataformas'"
   ]
  },
  {
   "cell_type": "code",
   "execution_count": 59,
   "metadata": {},
   "outputs": [
    {
     "data": {
      "text/plain": [
       "'La cantidad de series y peliculas por rating = 18+ es de 1243 en las cuatro plataformas'"
      ]
     },
     "execution_count": 59,
     "metadata": {},
     "output_type": "execute_result"
    }
   ],
   "source": [
    "get_rating_count('18+')"
   ]
  }
 ],
 "metadata": {
  "kernelspec": {
   "display_name": "Python 3",
   "language": "python",
   "name": "python3"
  },
  "language_info": {
   "codemirror_mode": {
    "name": "ipython",
    "version": 3
   },
   "file_extension": ".py",
   "mimetype": "text/x-python",
   "name": "python",
   "nbconvert_exporter": "python",
   "pygments_lexer": "ipython3",
   "version": "3.8.10"
  },
  "orig_nbformat": 4,
  "vscode": {
   "interpreter": {
    "hash": "916dbcbb3f70747c44a77c7bcd40155683ae19c65e1c03b4aa3499c5328201f1"
   }
  }
 },
 "nbformat": 4,
 "nbformat_minor": 2
}
